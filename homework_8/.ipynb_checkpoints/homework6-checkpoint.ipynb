{
 "cells": [
  {
   "cell_type": "code",
   "execution_count": 1,
   "metadata": {
    "colab": {
     "base_uri": "https://localhost:8080/",
     "height": 72
    },
    "colab_type": "code",
    "id": "TlcAbPxlYflP",
    "outputId": "67426784-07f7-485e-f573-2d6e547b5b17"
   },
   "outputs": [],
   "source": [
    "import pandas as pd\n",
    "import numpy as np\n",
    "import seaborn as sns\n",
    "import matplotlib.pyplot as plt"
   ]
  },
  {
   "cell_type": "code",
   "execution_count": 12,
   "metadata": {
    "colab": {},
    "colab_type": "code",
    "id": "ODiu4Fv7YflV"
   },
   "outputs": [],
   "source": [
    "data = pd.read_csv('clickstream.csv')\n",
    "ids = pd.read_csv('ab_save_card_2019-09-02_2019-09-30.csv')"
   ]
  },
  {
   "cell_type": "code",
   "execution_count": 28,
   "metadata": {
    "colab": {
     "base_uri": "https://localhost:8080/",
     "height": 202
    },
    "colab_type": "code",
    "id": "E2nZn-sYZop4",
    "outputId": "5f656dca-b5a9-406f-8c13-eab760c1cbad"
   },
   "outputs": [
    {
     "data": {
      "text/html": [
       "<div>\n",
       "<style scoped>\n",
       "    .dataframe tbody tr th:only-of-type {\n",
       "        vertical-align: middle;\n",
       "    }\n",
       "\n",
       "    .dataframe tbody tr th {\n",
       "        vertical-align: top;\n",
       "    }\n",
       "\n",
       "    .dataframe thead th {\n",
       "        text-align: right;\n",
       "    }\n",
       "</style>\n",
       "<table border=\"1\" class=\"dataframe\">\n",
       "  <thead>\n",
       "    <tr style=\"text-align: right;\">\n",
       "      <th></th>\n",
       "      <th>client_id</th>\n",
       "      <th>timestamp</th>\n",
       "      <th>event</th>\n",
       "      <th>event_metadata</th>\n",
       "      <th>card_type_used</th>\n",
       "      <th>cart</th>\n",
       "    </tr>\n",
       "  </thead>\n",
       "  <tbody>\n",
       "    <tr>\n",
       "      <th>0</th>\n",
       "      <td>796175212</td>\n",
       "      <td>2018-07-01 00:10:10.356057239</td>\n",
       "      <td>main</td>\n",
       "      <td>{'source: organic'}</td>\n",
       "      <td>NaN</td>\n",
       "      <td>NaN</td>\n",
       "    </tr>\n",
       "    <tr>\n",
       "      <th>1</th>\n",
       "      <td>796175212</td>\n",
       "      <td>2018-07-01 00:10:11.272860768</td>\n",
       "      <td>onboarding_main</td>\n",
       "      <td>NaN</td>\n",
       "      <td>NaN</td>\n",
       "      <td>NaN</td>\n",
       "    </tr>\n",
       "    <tr>\n",
       "      <th>2</th>\n",
       "      <td>796175212</td>\n",
       "      <td>2018-07-01 00:10:17.112819955</td>\n",
       "      <td>main</td>\n",
       "      <td>NaN</td>\n",
       "      <td>NaN</td>\n",
       "      <td>NaN</td>\n",
       "    </tr>\n",
       "    <tr>\n",
       "      <th>3</th>\n",
       "      <td>796175212</td>\n",
       "      <td>2018-07-01 00:10:19.543343496</td>\n",
       "      <td>lost</td>\n",
       "      <td>NaN</td>\n",
       "      <td>NaN</td>\n",
       "      <td>NaN</td>\n",
       "    </tr>\n",
       "    <tr>\n",
       "      <th>4</th>\n",
       "      <td>419515020</td>\n",
       "      <td>2018-07-01 00:33:47.067460089</td>\n",
       "      <td>products</td>\n",
       "      <td>{'source: facebook'}</td>\n",
       "      <td>NaN</td>\n",
       "      <td>NaN</td>\n",
       "    </tr>\n",
       "  </tbody>\n",
       "</table>\n",
       "</div>"
      ],
      "text/plain": [
       "   client_id                      timestamp            event  \\\n",
       "0  796175212  2018-07-01 00:10:10.356057239             main   \n",
       "1  796175212  2018-07-01 00:10:11.272860768  onboarding_main   \n",
       "2  796175212  2018-07-01 00:10:17.112819955             main   \n",
       "3  796175212  2018-07-01 00:10:19.543343496             lost   \n",
       "4  419515020  2018-07-01 00:33:47.067460089         products   \n",
       "\n",
       "         event_metadata card_type_used cart  \n",
       "0   {'source: organic'}            NaN  NaN  \n",
       "1                   NaN            NaN  NaN  \n",
       "2                   NaN            NaN  NaN  \n",
       "3                   NaN            NaN  NaN  \n",
       "4  {'source: facebook'}            NaN  NaN  "
      ]
     },
     "execution_count": 28,
     "metadata": {},
     "output_type": "execute_result"
    }
   ],
   "source": [
    "data.head()"
   ]
  },
  {
   "cell_type": "markdown",
   "metadata": {
    "colab": {
     "base_uri": "https://localhost:8080/",
     "height": 693
    },
    "colab_type": "code",
    "id": "AitY9XkfYfla",
    "outputId": "26a5dd45-ac68-439e-bc1b-a1733cf20635"
   },
   "source": [
    "### 1) Число пользователей"
   ]
  },
  {
   "cell_type": "markdown",
   "metadata": {},
   "source": [
    "Выделим первые события каждого пользователя, так мы оставим уникальных пользователей и при этом исходя из структуры событий, первое событие содержит event_metadata источник трафика"
   ]
  },
  {
   "cell_type": "code",
   "execution_count": 39,
   "metadata": {
    "colab": {
     "base_uri": "https://localhost:8080/",
     "height": 202
    },
    "colab_type": "code",
    "id": "Gqmkvr7AYflY",
    "outputId": "5493b20e-d5e3-4e73-c7f8-c92363824558"
   },
   "outputs": [
    {
     "data": {
      "text/plain": [
       "403965953    1\n",
       "504771219    1\n",
       "291680899    1\n",
       "44731012     1\n",
       "566632224    1\n",
       "            ..\n",
       "829584990    1\n",
       "272948479    1\n",
       "851715758    1\n",
       "163834742    1\n",
       "818153471    1\n",
       "Name: client_id, Length: 192182, dtype: int64"
      ]
     },
     "execution_count": 39,
     "metadata": {},
     "output_type": "execute_result"
    }
   ],
   "source": [
    "uniUserData = data.copy()\n",
    "uniUserData.drop_duplicates(subset ='client_id',keep = 'first', inplace = True)\n",
    "uniUserData['client_id'].value_counts()"
   ]
  },
  {
   "cell_type": "markdown",
   "metadata": {},
   "source": [
    "Всего пользователей 192182  \n",
    "Выделим пользователей группы A и B"
   ]
  },
  {
   "cell_type": "code",
   "execution_count": 50,
   "metadata": {
    "colab": {
     "base_uri": "https://localhost:8080/",
     "height": 693
    },
    "colab_type": "code",
    "id": "AitY9XkfYfla",
    "outputId": "26a5dd45-ac68-439e-bc1b-a1733cf20635"
   },
   "outputs": [
    {
     "data": {
      "text/plain": [
       "client_id         183833\n",
       "timestamp         183833\n",
       "event             183833\n",
       "event_metadata    183833\n",
       "card_type_used         0\n",
       "cart                   0\n",
       "dtype: int64"
      ]
     },
     "execution_count": 50,
     "metadata": {},
     "output_type": "execute_result"
    }
   ],
   "source": [
    "uniDataA = uniUserData[~uniUserData['client_id'].isin(ids['client_id'])].copy()\n",
    "uniDataA.count()"
   ]
  },
  {
   "cell_type": "code",
   "execution_count": 51,
   "metadata": {
    "colab": {
     "base_uri": "https://localhost:8080/",
     "height": 693
    },
    "colab_type": "code",
    "id": "AitY9XkfYfla",
    "outputId": "26a5dd45-ac68-439e-bc1b-a1733cf20635",
    "scrolled": true
   },
   "outputs": [
    {
     "data": {
      "text/plain": [
       "client_id         8349\n",
       "timestamp         8349\n",
       "event             8349\n",
       "event_metadata    8349\n",
       "card_type_used       0\n",
       "cart                 0\n",
       "dtype: int64"
      ]
     },
     "execution_count": 51,
     "metadata": {},
     "output_type": "execute_result"
    }
   ],
   "source": [
    "uniDataB = uniUserData[uniUserData['client_id'].isin(ids['client_id'])].copy()\n",
    "uniDataB.count()"
   ]
  },
  {
   "cell_type": "markdown",
   "metadata": {},
   "source": [
    "Пользователей группы B оказалось всего 8349, против 192182 - 8349 = 183833 , что-то явно пошло не так, число пользователей неравное"
   ]
  },
  {
   "cell_type": "markdown",
   "metadata": {
    "colab": {
     "base_uri": "https://localhost:8080/",
     "height": 693
    },
    "colab_type": "code",
    "id": "AitY9XkfYfla",
    "outputId": "26a5dd45-ac68-439e-bc1b-a1733cf20635"
   },
   "source": [
    "### 2) Случайность выбора"
   ]
  },
  {
   "cell_type": "markdown",
   "metadata": {
    "colab": {
     "base_uri": "https://localhost:8080/",
     "height": 693
    },
    "colab_type": "code",
    "id": "AitY9XkfYfla",
    "outputId": "26a5dd45-ac68-439e-bc1b-a1733cf20635"
   },
   "source": [
    "Попробуем проверить распределение по источникам"
   ]
  },
  {
   "cell_type": "code",
   "execution_count": 63,
   "metadata": {
    "colab": {
     "base_uri": "https://localhost:8080/",
     "height": 693
    },
    "colab_type": "code",
    "id": "AitY9XkfYfla",
    "outputId": "26a5dd45-ac68-439e-bc1b-a1733cf20635"
   },
   "outputs": [
    {
     "data": {
      "text/plain": [
       "{'source: google'}      56319\n",
       "{'source: yandex'}      51549\n",
       "{'source: facebook'}    42563\n",
       "{'source: organic'}     33402\n",
       "Name: event_metadata, dtype: int64"
      ]
     },
     "execution_count": 63,
     "metadata": {},
     "output_type": "execute_result"
    }
   ],
   "source": [
    "uniDataA['event_metadata'].value_counts()"
   ]
  },
  {
   "cell_type": "markdown",
   "metadata": {
    "colab": {
     "base_uri": "https://localhost:8080/",
     "height": 693
    },
    "colab_type": "code",
    "id": "AitY9XkfYfla",
    "outputId": "26a5dd45-ac68-439e-bc1b-a1733cf20635"
   },
   "source": [
    "google ~ 31%  \n",
    "yandex ~ 28%  \n",
    "facebook ~ 23%  \n",
    "organic ~ 18%  "
   ]
  },
  {
   "cell_type": "code",
   "execution_count": 54,
   "metadata": {
    "colab": {},
    "colab_type": "code",
    "id": "TLY9LYvOaFDO"
   },
   "outputs": [
    {
     "data": {
      "text/plain": [
       "{'source: google'}      2464\n",
       "{'source: yandex'}      2459\n",
       "{'source: facebook'}    1961\n",
       "{'source: organic'}     1465\n",
       "Name: event_metadata, dtype: int64"
      ]
     },
     "execution_count": 54,
     "metadata": {},
     "output_type": "execute_result"
    }
   ],
   "source": [
    "uniDataB['event_metadata'].value_counts()"
   ]
  },
  {
   "cell_type": "markdown",
   "metadata": {
    "colab_type": "text",
    "id": "X6Bss0xJYfll"
   },
   "source": [
    "google ~ 30%  \n",
    "yandex ~ 30%  \n",
    "facebook ~ 24%  \n",
    "organic ~ 18%  \n",
    "  \n",
    "Да, пользователей яндекса практически как пользователей гугла, что не есть хорошо, однако наша выборка в 8000 мала, поэтому это может быть статистической погрешностью, попробуем посмотреть что происходит с timestamp  \n",
    "  \n",
    "Вычислим начальное и конечное время прихода пользователя и среднее"
   ]
  },
  {
   "cell_type": "code",
   "execution_count": 61,
   "metadata": {
    "colab": {
     "base_uri": "https://localhost:8080/",
     "height": 357
    },
    "colab_type": "code",
    "id": "WLJqaYeEYfld",
    "outputId": "1e61686e-0cac-409c-d311-95035be5b752",
    "scrolled": true
   },
   "outputs": [
    {
     "name": "stdout",
     "output_type": "stream",
     "text": [
      "2018-07-01 00:10:10.356057239\n",
      "2019-12-31 23:59:15.867960294\n",
      "2019-03-28 22:28:22.681803520\n",
      "\n",
      "\n",
      "2018-07-01 21:28:17.404653940\n",
      "2019-09-30 23:55:45.038700637\n",
      "2019-08-05 21:13:39.164142336\n"
     ]
    }
   ],
   "source": [
    "min_date = uniDataA['timestamp'].min()\n",
    "max_date = uniDataA['timestamp'].max()\n",
    "uniDataA['date_var'] = pd.to_datetime(uniDataA['timestamp'])\n",
    "mean_date = pd.Timestamp(np.nanmean([tsp.value for tsp in uniDataA['date_var']]))\n",
    "print(min_date)\n",
    "print(max_date)\n",
    "print(mean_date)\n",
    "\n",
    "print('\\n')\n",
    "min_dateB = uniDataB['timestamp'].min()\n",
    "max_dateB = uniDataB['timestamp'].max()\n",
    "# mean_dateB = uniDataB['timestamp'].mean()\n",
    "uniDataB['date_var'] = pd.to_datetime(uniDataB['timestamp'])\n",
    "mean_dateB = pd.Timestamp(np.nanmean([tsp.value for tsp in uniDataB['date_var']]))\n",
    "print(min_dateB)\n",
    "print(max_dateB)\n",
    "print(mean_dateB)"
   ]
  },
  {
   "cell_type": "markdown",
   "metadata": {
    "colab": {},
    "colab_type": "code",
    "id": "b_CKbHHrktFj"
   },
   "source": [
    "Среднее по группе B сильно ближе к правой границе своего интервала и распределено по августу-сентябрю, что позволяет нам сделать вывод что данные выбраны грубо и не случайно"
   ]
  }
 ],
 "metadata": {
  "colab": {
   "collapsed_sections": [],
   "name": "Cohort_analysis_v1с.ipynb",
   "provenance": []
  },
  "kernelspec": {
   "display_name": "Python 3",
   "language": "python",
   "name": "python3"
  },
  "language_info": {
   "codemirror_mode": {
    "name": "ipython",
    "version": 3
   },
   "file_extension": ".py",
   "mimetype": "text/x-python",
   "name": "python",
   "nbconvert_exporter": "python",
   "pygments_lexer": "ipython3",
   "version": "3.7.4"
  },
  "toc": {
   "base_numbering": 1,
   "nav_menu": {},
   "number_sections": true,
   "sideBar": true,
   "skip_h1_title": false,
   "title_cell": "Table of Contents",
   "title_sidebar": "Contents",
   "toc_cell": true,
   "toc_position": {},
   "toc_section_display": true,
   "toc_window_display": true
  }
 },
 "nbformat": 4,
 "nbformat_minor": 1
}
