{
 "cells": [
  {
   "cell_type": "code",
   "execution_count": 6,
   "metadata": {
    "colab": {
     "base_uri": "https://localhost:8080/",
     "height": 72
    },
    "colab_type": "code",
    "id": "TlcAbPxlYflP",
    "outputId": "67426784-07f7-485e-f573-2d6e547b5b17"
   },
   "outputs": [],
   "source": [
    "import pandas as pd\n",
    "import numpy as np\n",
    "import seaborn as sns\n",
    "import retentioneering\n",
    "import matplotlib.pyplot as plt"
   ]
  },
  {
   "cell_type": "code",
   "execution_count": 3,
   "metadata": {
    "colab": {},
    "colab_type": "code",
    "id": "ODiu4Fv7YflV"
   },
   "outputs": [],
   "source": [
    "data1_1 = pd.read_csv('experiment1_1.csv')\n",
    "data1_2 = pd.read_csv('experiment1_2.csv')\n",
    "data2_1 = pd.read_csv('experiment2_1.csv')\n",
    "data2_2 = pd.read_csv('experiment2_2.csv')"
   ]
  },
  {
   "cell_type": "markdown",
   "metadata": {
    "colab": {
     "base_uri": "https://localhost:8080/",
     "height": 693
    },
    "colab_type": "code",
    "id": "AitY9XkfYfla",
    "outputId": "26a5dd45-ac68-439e-bc1b-a1733cf20635"
   },
   "source": [
    "### 1) Изучим данные"
   ]
  },
  {
   "cell_type": "code",
   "execution_count": 4,
   "metadata": {
    "colab": {
     "base_uri": "https://localhost:8080/",
     "height": 202
    },
    "colab_type": "code",
    "id": "E2nZn-sYZop4",
    "outputId": "5f656dca-b5a9-406f-8c13-eab760c1cbad"
   },
   "outputs": [
    {
     "data": {
      "text/html": [
       "<div>\n",
       "<style scoped>\n",
       "    .dataframe tbody tr th:only-of-type {\n",
       "        vertical-align: middle;\n",
       "    }\n",
       "\n",
       "    .dataframe tbody tr th {\n",
       "        vertical-align: top;\n",
       "    }\n",
       "\n",
       "    .dataframe thead th {\n",
       "        text-align: right;\n",
       "    }\n",
       "</style>\n",
       "<table border=\"1\" class=\"dataframe\">\n",
       "  <thead>\n",
       "    <tr style=\"text-align: right;\">\n",
       "      <th></th>\n",
       "      <th>client_id</th>\n",
       "      <th>user_session</th>\n",
       "      <th>timestamp</th>\n",
       "      <th>event</th>\n",
       "      <th>session</th>\n",
       "    </tr>\n",
       "  </thead>\n",
       "  <tbody>\n",
       "    <tr>\n",
       "      <th>0</th>\n",
       "      <td>10505</td>\n",
       "      <td>1</td>\n",
       "      <td>2020-05-01 00:00:00.000000000</td>\n",
       "      <td>main</td>\n",
       "      <td>105051</td>\n",
       "    </tr>\n",
       "    <tr>\n",
       "      <th>1</th>\n",
       "      <td>10505</td>\n",
       "      <td>1</td>\n",
       "      <td>2020-05-01 00:00:00.000000000</td>\n",
       "      <td>phones</td>\n",
       "      <td>105051</td>\n",
       "    </tr>\n",
       "    <tr>\n",
       "      <th>2</th>\n",
       "      <td>10505</td>\n",
       "      <td>1</td>\n",
       "      <td>2020-05-01 00:00:00.000000000</td>\n",
       "      <td>phones/apple</td>\n",
       "      <td>105051</td>\n",
       "    </tr>\n",
       "    <tr>\n",
       "      <th>3</th>\n",
       "      <td>10505</td>\n",
       "      <td>1</td>\n",
       "      <td>2020-05-01 00:00:00.000000000</td>\n",
       "      <td>phones</td>\n",
       "      <td>105051</td>\n",
       "    </tr>\n",
       "    <tr>\n",
       "      <th>4</th>\n",
       "      <td>10505</td>\n",
       "      <td>1</td>\n",
       "      <td>2020-05-01 00:00:00.000000000</td>\n",
       "      <td>main</td>\n",
       "      <td>105051</td>\n",
       "    </tr>\n",
       "  </tbody>\n",
       "</table>\n",
       "</div>"
      ],
      "text/plain": [
       "   client_id  user_session                      timestamp         event  \\\n",
       "0      10505             1  2020-05-01 00:00:00.000000000          main   \n",
       "1      10505             1  2020-05-01 00:00:00.000000000        phones   \n",
       "2      10505             1  2020-05-01 00:00:00.000000000  phones/apple   \n",
       "3      10505             1  2020-05-01 00:00:00.000000000        phones   \n",
       "4      10505             1  2020-05-01 00:00:00.000000000          main   \n",
       "\n",
       "   session  \n",
       "0   105051  \n",
       "1   105051  \n",
       "2   105051  \n",
       "3   105051  \n",
       "4   105051  "
      ]
     },
     "execution_count": 4,
     "metadata": {},
     "output_type": "execute_result"
    }
   ],
   "source": [
    "data1_1.head()"
   ]
  },
  {
   "cell_type": "code",
   "execution_count": 11,
   "metadata": {
    "colab": {
     "base_uri": "https://localhost:8080/",
     "height": 202
    },
    "colab_type": "code",
    "id": "E2nZn-sYZop4",
    "outputId": "5f656dca-b5a9-406f-8c13-eab760c1cbad"
   },
   "outputs": [
    {
     "data": {
      "text/plain": [
       "main                    73526\n",
       "phones                  61311\n",
       "phones/apple            45289\n",
       "lost                    40200\n",
       "laptops                 36398\n",
       "item_details            25522\n",
       "laptops/xiaomi/1234     18242\n",
       "laptops/xiaomi          17159\n",
       "phones/apple/123        15013\n",
       "item_reviews             6616\n",
       "support                  5260\n",
       "cart                     2821\n",
       "fill_user_info           1996\n",
       "support/message_sent     1939\n",
       "checkout                  786\n",
       "payment_done              138\n",
       "Name: event, dtype: int64"
      ]
     },
     "execution_count": 11,
     "metadata": {},
     "output_type": "execute_result"
    }
   ],
   "source": [
    "data1_1['event'].value_counts()"
   ]
  },
  {
   "cell_type": "code",
   "execution_count": 12,
   "metadata": {
    "colab": {
     "base_uri": "https://localhost:8080/",
     "height": 202
    },
    "colab_type": "code",
    "id": "E2nZn-sYZop4",
    "outputId": "5f656dca-b5a9-406f-8c13-eab760c1cbad"
   },
   "outputs": [
    {
     "data": {
      "text/plain": [
       "main                    74269\n",
       "phones                  61593\n",
       "phones/apple            45642\n",
       "lost                    40378\n",
       "laptops                 36829\n",
       "item_details            25657\n",
       "laptops/xiaomi/1234     18479\n",
       "laptops/xiaomi          17324\n",
       "phones/apple/123        15362\n",
       "item_reviews             6485\n",
       "support                  5201\n",
       "cart                     2724\n",
       "fill_user_info           1988\n",
       "support/message_sent     1858\n",
       "checkout                  862\n",
       "payment_done              154\n",
       "Name: event, dtype: int64"
      ]
     },
     "execution_count": 12,
     "metadata": {},
     "output_type": "execute_result"
    }
   ],
   "source": [
    "data1_2['event'].value_counts()"
   ]
  },
  {
   "cell_type": "code",
   "execution_count": 13,
   "metadata": {
    "colab": {
     "base_uri": "https://localhost:8080/",
     "height": 202
    },
    "colab_type": "code",
    "id": "E2nZn-sYZop4",
    "outputId": "5f656dca-b5a9-406f-8c13-eab760c1cbad"
   },
   "outputs": [
    {
     "data": {
      "text/plain": [
       "main                    73526\n",
       "phones                  61311\n",
       "phones/apple            45289\n",
       "lost                    40200\n",
       "laptops                 36398\n",
       "item_details            25522\n",
       "laptops/xiaomi/1234     18242\n",
       "laptops/xiaomi          17159\n",
       "phones/apple/123        15013\n",
       "item_reviews             6616\n",
       "support                  5260\n",
       "cart                     2821\n",
       "fill_user_info           1996\n",
       "support/message_sent     1939\n",
       "checkout                  786\n",
       "payment_done              138\n",
       "Name: event, dtype: int64"
      ]
     },
     "execution_count": 13,
     "metadata": {},
     "output_type": "execute_result"
    }
   ],
   "source": [
    "data2_1['event'].value_counts()"
   ]
  },
  {
   "cell_type": "code",
   "execution_count": 14,
   "metadata": {
    "colab": {
     "base_uri": "https://localhost:8080/",
     "height": 202
    },
    "colab_type": "code",
    "id": "E2nZn-sYZop4",
    "outputId": "5f656dca-b5a9-406f-8c13-eab760c1cbad"
   },
   "outputs": [
    {
     "data": {
      "text/plain": [
       "phones                  103255\n",
       "main                     92897\n",
       "phones/apple             86718\n",
       "item_details             65636\n",
       "laptops                  49822\n",
       "laptops/xiaomi/1234      40998\n",
       "lost                     39266\n",
       "phones/apple/123         35741\n",
       "laptops/xiaomi           31675\n",
       "item_reviews             18064\n",
       "support                  14547\n",
       "cart                      8582\n",
       "fill_user_info            6971\n",
       "support/message_sent      6439\n",
       "checkout                  3109\n",
       "payment_done               953\n",
       "Name: event, dtype: int64"
      ]
     },
     "execution_count": 14,
     "metadata": {},
     "output_type": "execute_result"
    }
   ],
   "source": [
    "data2_2['event'].value_counts()"
   ]
  },
  {
   "cell_type": "markdown",
   "metadata": {},
   "source": [
    "Построим граф переходов для данных для понимания поведения пользователей."
   ]
  },
  {
   "cell_type": "code",
   "execution_count": 14,
   "metadata": {
    "colab": {
     "base_uri": "https://localhost:8080/",
     "height": 202
    },
    "colab_type": "code",
    "id": "Gqmkvr7AYflY",
    "outputId": "5493b20e-d5e3-4e73-c7f8-c92363824558"
   },
   "outputs": [
    {
     "data": {
      "text/html": [
       "\n",
       "        <iframe\n",
       "            width=\"1000\"\n",
       "            height=\"700\"\n",
       "            src=\"experiments/graph_2021-05-08 09_52_26_282193.html\"\n",
       "            frameborder=\"0\"\n",
       "            allowfullscreen\n",
       "        ></iframe>\n",
       "        "
      ],
      "text/plain": [
       "<IPython.lib.display.IFrame at 0x13cab7350>"
      ]
     },
     "metadata": {},
     "output_type": "display_data"
    },
    {
     "data": {
      "text/plain": [
       "'experiments/graph_2021-05-08 09_52_26_282193.html'"
      ]
     },
     "execution_count": 14,
     "metadata": {},
     "output_type": "execute_result"
    }
   ],
   "source": [
    "retentioneering.config.update({\n",
    "    'event_col':'event',\n",
    "    'event_time_col':'timestamp',\n",
    "    'user_col': 'client_id'\n",
    "})\n",
    "\n",
    "data1_1.rete.plot_graph(norm_type='full',\n",
    "                     weight_col='client_id',\n",
    "                     thresh=0.02,\n",
    "                     targets = {'payment_done':'green', 'lost':'red'})"
   ]
  },
  {
   "cell_type": "markdown",
   "metadata": {},
   "source": [
    "![title](graph.png)"
   ]
  },
  {
   "cell_type": "markdown",
   "metadata": {},
   "source": [
    "Пользователь попадает из главного экран в две категории Laptops и Phones из них он может выбрать только определенные марки и модели  xiaomi/1234 и apple/123, далее один экран просмотра деталей с выходом на окно поддержки или отзывов с последующим попаданием в корзину и оплатой"
   ]
  },
  {
   "cell_type": "markdown",
   "metadata": {
    "colab": {
     "base_uri": "https://localhost:8080/",
     "height": 202
    },
    "colab_type": "code",
    "id": "Gqmkvr7AYflY",
    "outputId": "5493b20e-d5e3-4e73-c7f8-c92363824558"
   },
   "source": [
    "### 2) Интерпретируем результаты тестов"
   ]
  },
  {
   "cell_type": "markdown",
   "metadata": {
    "colab": {
     "base_uri": "https://localhost:8080/",
     "height": 202
    },
    "colab_type": "code",
    "id": "Gqmkvr7AYflY",
    "outputId": "5493b20e-d5e3-4e73-c7f8-c92363824558"
   },
   "source": [
    "Будем считать целью теста выяснить изменение конверсии в покупку (ивент payment_done), сравним показатели для двух тестов с использованием теста Манна-Уитни и порогового P-value 0.05"
   ]
  },
  {
   "cell_type": "code",
   "execution_count": 54,
   "metadata": {
    "colab": {
     "base_uri": "https://localhost:8080/",
     "height": 202
    },
    "colab_type": "code",
    "id": "Gqmkvr7AYflY",
    "outputId": "5493b20e-d5e3-4e73-c7f8-c92363824558"
   },
   "outputs": [],
   "source": [
    "data1 = data1_1.append(data1_2)"
   ]
  },
  {
   "cell_type": "code",
   "execution_count": 61,
   "metadata": {
    "colab": {
     "base_uri": "https://localhost:8080/",
     "height": 202
    },
    "colab_type": "code",
    "id": "Gqmkvr7AYflY",
    "outputId": "5493b20e-d5e3-4e73-c7f8-c92363824558"
   },
   "outputs": [
    {
     "name": "stdout",
     "output_type": "stream",
     "text": [
      "test (mean ± SD): 0.030 ± 0.171, n = 5000\n",
      "control (mean ± SD): 0.028 ± 0.164, n = 5000\n",
      "'test' is greater than 'control' with P-value: 0.21889\n",
      "power of the test: 19.25%\n"
     ]
    },
    {
     "data": {
      "image/png": "[encoded data removed]",
      "text/plain": [
       "<Figure size 430.5x360 with 1 Axes>"
      ]
     },
     "metadata": {
      "needs_background": "light"
     },
     "output_type": "display_data"
    }
   ],
   "source": [
    "conversion = lambda x: int(['payment_done'] in x['event'].unique())\n",
    "test = data1_2['client_id'].unique()\n",
    "control = data1_1['client_id'].unique()\n",
    "\n",
    "data1.rete.compare(groups=(test, control),\n",
    "                  function=conversion,\n",
    "                  test='mannwhitneyu',\n",
    "                  group_names=('test','control'))"
   ]
  },
  {
   "cell_type": "code",
   "execution_count": 63,
   "metadata": {
    "colab": {
     "base_uri": "https://localhost:8080/",
     "height": 202
    },
    "colab_type": "code",
    "id": "Gqmkvr7AYflY",
    "outputId": "5493b20e-d5e3-4e73-c7f8-c92363824558"
   },
   "outputs": [
    {
     "name": "stdout",
     "output_type": "stream",
     "text": [
      "test (mean ± SD): 0.175 ± 0.380, n = 5000\n",
      "control (mean ± SD): 0.028 ± 0.164, n = 5000\n",
      "'test' is greater than 'control' with P-value: 0.00000\n",
      "power of the test: 100.00%\n"
     ]
    },
    {
     "data": {
      "image/png": "[encoded data removed]",
      "text/plain": [
       "<Figure size 430.5x360 with 1 Axes>"
      ]
     },
     "metadata": {
      "needs_background": "light"
     },
     "output_type": "display_data"
    }
   ],
   "source": [
    "data2 = data2_1.append(data2_2)\n",
    "\n",
    "test = data2_2['client_id'].unique()\n",
    "control = data2_1['client_id'].unique()\n",
    "\n",
    "data2.rete.compare(groups=(test, control),\n",
    "                  function=conversion,\n",
    "                  test='mannwhitneyu',\n",
    "                  group_names=('test','control'))"
   ]
  },
  {
   "cell_type": "markdown",
   "metadata": {
    "colab": {
     "base_uri": "https://localhost:8080/",
     "height": 202
    },
    "colab_type": "code",
    "id": "Gqmkvr7AYflY",
    "outputId": "5493b20e-d5e3-4e73-c7f8-c92363824558"
   },
   "source": [
    "В первом тесте нет статистически значимых изменений в конверсии, поэтому тест никак не повлиял на покупки. Однако во втором тесте мы можем со 100% вероятностью заявить что он положительно повлиял на покупки и эти изменения стоит выкатить на всех пользователей"
   ]
  }
 ],
 "metadata": {
  "colab": {
   "collapsed_sections": [],
   "name": "Cohort_analysis_v1с.ipynb",
   "provenance": []
  },
  "kernelspec": {
   "display_name": "Python 3",
   "language": "python",
   "name": "python3"
  },
  "language_info": {
   "codemirror_mode": {
    "name": "ipython",
    "version": 3
   },
   "file_extension": ".py",
   "mimetype": "text/x-python",
   "name": "python",
   "nbconvert_exporter": "python",
   "pygments_lexer": "ipython3",
   "version": "3.7.4"
  },
  "toc": {
   "base_numbering": 1,
   "nav_menu": {},
   "number_sections": true,
   "sideBar": true,
   "skip_h1_title": false,
   "title_cell": "Table of Contents",
   "title_sidebar": "Contents",
   "toc_cell": true,
   "toc_position": {},
   "toc_section_display": true,
   "toc_window_display": true
  }
 },
 "nbformat": 4,
 "nbformat_minor": 1
}
